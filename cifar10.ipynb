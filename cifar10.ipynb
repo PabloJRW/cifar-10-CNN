{
  "nbformat": 4,
  "nbformat_minor": 0,
  "metadata": {
    "colab": {
      "provenance": [],
      "authorship_tag": "ABX9TyPo9f+tqmW/IY8jFQUntUzs",
      "include_colab_link": true
    },
    "kernelspec": {
      "name": "python3",
      "display_name": "Python 3"
    },
    "language_info": {
      "name": "python"
    },
    "accelerator": "GPU",
    "gpuClass": "standard"
  },
  "cells": [
    {
      "cell_type": "markdown",
      "metadata": {
        "id": "view-in-github",
        "colab_type": "text"
      },
      "source": [
        "<a href=\"https://colab.research.google.com/github/PabloJRW/cifar-10-CNN/blob/main/cifar10.ipynb\" target=\"_parent\"><img src=\"https://colab.research.google.com/assets/colab-badge.svg\" alt=\"Open In Colab\"/></a>"
      ]
    },
    {
      "cell_type": "code",
      "execution_count": 1,
      "metadata": {
        "id": "FXAt6TV7oEUH"
      },
      "outputs": [],
      "source": [
        "import numpy as np\n",
        "import matplotlib.pyplot as plt\n",
        "\n",
        "import keras\n",
        "from keras.models import Sequential\n",
        "from keras.datasets import cifar10\n",
        "from keras.preprocessing.image import ImageDataGenerator\n",
        "from keras.utils import np_utils\n",
        "from keras.layers import Conv2D, MaxPooling2D, Flatten, Dense, Dropout\n",
        "from keras.callbacks import ModelCheckpoint\n",
        "from keras import regularizers, optimizers"
      ]
    },
    {
      "cell_type": "code",
      "source": [
        "(x_train, y_train), (x_test, y_test) = cifar10.load_data()\n",
        "x_train = x_train.astype('float32') / 255\n",
        "x_test = x_test.astype('float32') / 255\n",
        "\n",
        "(x_train, x_val) = x_train[5000:], x_train[:5000]\n",
        "(y_train, y_val) = y_train[5000:], y_train[:5000]\n"
      ],
      "metadata": {
        "id": "rADjwHJAzTXu"
      },
      "execution_count": 2,
      "outputs": []
    },
    {
      "cell_type": "code",
      "source": [
        "# One-hot encode the labels\n",
        "num_classes = 10\n",
        "y_train = np_utils.to_categorical(y_train, num_classes)\n",
        "y_val = np_utils.to_categorical(y_val, num_classes)\n",
        "y_test = np_utils.to_categorical(y_test, num_classes)"
      ],
      "metadata": {
        "id": "uUyrIAzi1uuC"
      },
      "execution_count": 3,
      "outputs": []
    },
    {
      "cell_type": "code",
      "source": [
        "# Normalize the data\n",
        "mean = np.mean(x_train, axis=(0,1,2,3))\n",
        "std = np.std(x_train, axis=(0,1,2,3))\n",
        "x_train = (x_train - mean) / (std + 1e-7)\n",
        "x_val = (x_val - mean) / (std + 1e-7)\n",
        "x_test = (x_test - mean) / (std - 1e-7)"
      ],
      "metadata": {
        "id": "ZzLuto3u01aC"
      },
      "execution_count": 4,
      "outputs": []
    },
    {
      "cell_type": "code",
      "source": [
        "# Data augmentation\n",
        "\"\"\"datagen = ImageDataGenerator(\n",
        "    rotation_range= 15,\n",
        "    width_shift_range = 0.1,\n",
        "    height_shift_range = 0.1,\n",
        "    horizontal_flip = True,\n",
        "    vertical_flip = False\n",
        ")\n",
        "\n",
        "datagen.fit(x_train)\"\"\""
      ],
      "metadata": {
        "id": "O7wMz3C5u0Cv",
        "colab": {
          "base_uri": "https://localhost:8080/"
        },
        "outputId": "5d7bd79e-b23d-464a-a11b-4df173f20b47"
      },
      "execution_count": 5,
      "outputs": [
        {
          "output_type": "execute_result",
          "data": {
            "text/plain": [
              "'datagen = ImageDataGenerator(\\n    rotation_range= 15,\\n    width_shift_range = 0.1,\\n    height_shift_range = 0.1,\\n    horizontal_flip = True,\\n    vertical_flip = False\\n)\\n\\ndatagen.fit(x_train)'"
            ],
            "application/vnd.google.colaboratory.intrinsic+json": {
              "type": "string"
            }
          },
          "metadata": {},
          "execution_count": 5
        }
      ]
    },
    {
      "cell_type": "code",
      "source": [
        "model = Sequential()\n",
        "\n",
        "# CONV1\n",
        "model.add(Conv2D(32, \n",
        "                 kernel_size=3, \n",
        "                 strides=1, \n",
        "                 padding='same',\n",
        "                 activation='relu',\n",
        "                 input_shape=(32, 32, 3)))\n",
        "model.add(MaxPooling2D(pool_size=(2, 2)))\n",
        "\n",
        "# CONV2\n",
        "model.add(Conv2D(64,\n",
        "                 kernel_size=(3, 3),\n",
        "                 strides=1,\n",
        "                 padding='same',\n",
        "                 activation='relu'))\n",
        "model.add(MaxPooling2D(pool_size=(2, 2)))\n",
        "model.add(Dropout(0.3))\n",
        "\n",
        "model.add(Flatten())\n",
        "model.add(Dense(64, activation='relu'))\n",
        "model.add(Dense(10, activation='softmax'))\n",
        "model.summary()\n"
      ],
      "metadata": {
        "colab": {
          "base_uri": "https://localhost:8080/"
        },
        "id": "0W_OWmgToitS",
        "outputId": "61aea9e1-7a29-47ec-eb7a-bec23f950163"
      },
      "execution_count": 6,
      "outputs": [
        {
          "output_type": "stream",
          "name": "stdout",
          "text": [
            "Model: \"sequential\"\n",
            "_________________________________________________________________\n",
            " Layer (type)                Output Shape              Param #   \n",
            "=================================================================\n",
            " conv2d (Conv2D)             (None, 32, 32, 32)        896       \n",
            "                                                                 \n",
            " max_pooling2d (MaxPooling2D  (None, 16, 16, 32)       0         \n",
            " )                                                               \n",
            "                                                                 \n",
            " conv2d_1 (Conv2D)           (None, 16, 16, 64)        18496     \n",
            "                                                                 \n",
            " max_pooling2d_1 (MaxPooling  (None, 8, 8, 64)         0         \n",
            " 2D)                                                             \n",
            "                                                                 \n",
            " dropout (Dropout)           (None, 8, 8, 64)          0         \n",
            "                                                                 \n",
            " flatten (Flatten)           (None, 4096)              0         \n",
            "                                                                 \n",
            " dense (Dense)               (None, 64)                262208    \n",
            "                                                                 \n",
            " dense_1 (Dense)             (None, 10)                650       \n",
            "                                                                 \n",
            "=================================================================\n",
            "Total params: 282,250\n",
            "Trainable params: 282,250\n",
            "Non-trainable params: 0\n",
            "_________________________________________________________________\n"
          ]
        }
      ]
    },
    {
      "cell_type": "code",
      "source": [
        "model.compile(optimizer=\"rmsprop\",\n",
        "              loss=\"categorical_crossentropy\",\n",
        "              metrics=\"Accuracy\",\n",
        "              )"
      ],
      "metadata": {
        "id": "ZvaV-G34l322"
      },
      "execution_count": 7,
      "outputs": []
    },
    {
      "cell_type": "code",
      "source": [
        "hist = model.fit(x_train, y_train, \n",
        "          batch_size=32,\n",
        "          epochs=100,\n",
        "          validation_data=(x_val, y_val),\n",
        "          verbose=True,\n",
        "          shuffle=True\n",
        "          ) "
      ],
      "metadata": {
        "id": "Q1lf0Sqcl63v",
        "colab": {
          "base_uri": "https://localhost:8080/"
        },
        "outputId": "27fd30dd-66aa-4b7a-b090-645b314f7d1b"
      },
      "execution_count": 8,
      "outputs": [
        {
          "output_type": "stream",
          "name": "stdout",
          "text": [
            "Epoch 1/100\n",
            "1407/1407 [==============================] - 13s 6ms/step - loss: 1.3471 - Accuracy: 0.5229 - val_loss: 1.0818 - val_Accuracy: 0.6160\n",
            "Epoch 2/100\n",
            "1407/1407 [==============================] - 7s 5ms/step - loss: 0.9897 - Accuracy: 0.6520 - val_loss: 1.1084 - val_Accuracy: 0.6296\n",
            "Epoch 3/100\n",
            "1407/1407 [==============================] - 7s 5ms/step - loss: 0.8724 - Accuracy: 0.6983 - val_loss: 0.8421 - val_Accuracy: 0.7054\n",
            "Epoch 4/100\n",
            "1407/1407 [==============================] - 7s 5ms/step - loss: 0.7955 - Accuracy: 0.7263 - val_loss: 0.8974 - val_Accuracy: 0.6988\n",
            "Epoch 5/100\n",
            "1407/1407 [==============================] - 7s 5ms/step - loss: 0.7367 - Accuracy: 0.7450 - val_loss: 0.9333 - val_Accuracy: 0.6930\n",
            "Epoch 6/100\n",
            "1407/1407 [==============================] - 7s 5ms/step - loss: 0.6959 - Accuracy: 0.7612 - val_loss: 0.8332 - val_Accuracy: 0.7100\n",
            "Epoch 7/100\n",
            "1407/1407 [==============================] - 7s 5ms/step - loss: 0.6569 - Accuracy: 0.7792 - val_loss: 0.8386 - val_Accuracy: 0.7150\n",
            "Epoch 8/100\n",
            "1407/1407 [==============================] - 7s 5ms/step - loss: 0.6311 - Accuracy: 0.7851 - val_loss: 0.8446 - val_Accuracy: 0.7116\n",
            "Epoch 9/100\n",
            "1407/1407 [==============================] - 8s 5ms/step - loss: 0.6068 - Accuracy: 0.7932 - val_loss: 0.8007 - val_Accuracy: 0.7396\n",
            "Epoch 10/100\n",
            "1407/1407 [==============================] - 8s 6ms/step - loss: 0.5844 - Accuracy: 0.8010 - val_loss: 0.9097 - val_Accuracy: 0.7278\n",
            "Epoch 11/100\n",
            "1407/1407 [==============================] - 8s 5ms/step - loss: 0.5664 - Accuracy: 0.8101 - val_loss: 0.9215 - val_Accuracy: 0.7296\n",
            "Epoch 12/100\n",
            "1407/1407 [==============================] - 7s 5ms/step - loss: 0.5630 - Accuracy: 0.8119 - val_loss: 0.9655 - val_Accuracy: 0.7142\n",
            "Epoch 13/100\n",
            "1407/1407 [==============================] - 7s 5ms/step - loss: 0.5401 - Accuracy: 0.8187 - val_loss: 0.9130 - val_Accuracy: 0.7304\n",
            "Epoch 14/100\n",
            "1407/1407 [==============================] - 7s 5ms/step - loss: 0.5348 - Accuracy: 0.8207 - val_loss: 0.9299 - val_Accuracy: 0.7258\n",
            "Epoch 15/100\n",
            "1407/1407 [==============================] - 7s 5ms/step - loss: 0.5266 - Accuracy: 0.8261 - val_loss: 1.1101 - val_Accuracy: 0.6958\n",
            "Epoch 16/100\n",
            "1407/1407 [==============================] - 8s 6ms/step - loss: 0.5166 - Accuracy: 0.8298 - val_loss: 0.9565 - val_Accuracy: 0.7402\n",
            "Epoch 17/100\n",
            "1407/1407 [==============================] - 7s 5ms/step - loss: 0.5157 - Accuracy: 0.8288 - val_loss: 0.9957 - val_Accuracy: 0.7306\n",
            "Epoch 18/100\n",
            "1407/1407 [==============================] - 7s 5ms/step - loss: 0.5032 - Accuracy: 0.8344 - val_loss: 0.9585 - val_Accuracy: 0.7270\n",
            "Epoch 19/100\n",
            "1407/1407 [==============================] - 7s 5ms/step - loss: 0.5005 - Accuracy: 0.8355 - val_loss: 1.0335 - val_Accuracy: 0.7148\n",
            "Epoch 20/100\n",
            "1407/1407 [==============================] - 7s 5ms/step - loss: 0.5002 - Accuracy: 0.8362 - val_loss: 1.0145 - val_Accuracy: 0.6934\n",
            "Epoch 21/100\n",
            "1407/1407 [==============================] - 7s 5ms/step - loss: 0.5034 - Accuracy: 0.8373 - val_loss: 0.9044 - val_Accuracy: 0.7154\n",
            "Epoch 22/100\n",
            "1407/1407 [==============================] - 7s 5ms/step - loss: 0.4925 - Accuracy: 0.8409 - val_loss: 1.1222 - val_Accuracy: 0.7250\n",
            "Epoch 23/100\n",
            "1407/1407 [==============================] - 7s 5ms/step - loss: 0.4917 - Accuracy: 0.8394 - val_loss: 1.0219 - val_Accuracy: 0.7360\n",
            "Epoch 24/100\n",
            "1407/1407 [==============================] - 8s 5ms/step - loss: 0.4898 - Accuracy: 0.8455 - val_loss: 0.9872 - val_Accuracy: 0.7330\n",
            "Epoch 25/100\n",
            "1407/1407 [==============================] - 7s 5ms/step - loss: 0.4906 - Accuracy: 0.8420 - val_loss: 1.2332 - val_Accuracy: 0.7120\n",
            "Epoch 26/100\n",
            "1407/1407 [==============================] - 7s 5ms/step - loss: 0.4851 - Accuracy: 0.8443 - val_loss: 1.1059 - val_Accuracy: 0.7380\n",
            "Epoch 27/100\n",
            "1407/1407 [==============================] - 7s 5ms/step - loss: 0.4857 - Accuracy: 0.8429 - val_loss: 1.0272 - val_Accuracy: 0.7256\n",
            "Epoch 28/100\n",
            "1407/1407 [==============================] - 7s 5ms/step - loss: 0.4841 - Accuracy: 0.8456 - val_loss: 1.2863 - val_Accuracy: 0.6858\n",
            "Epoch 29/100\n",
            "1407/1407 [==============================] - 7s 5ms/step - loss: 0.4903 - Accuracy: 0.8446 - val_loss: 1.0392 - val_Accuracy: 0.7208\n",
            "Epoch 30/100\n",
            "1407/1407 [==============================] - 7s 5ms/step - loss: 0.4924 - Accuracy: 0.8426 - val_loss: 1.1004 - val_Accuracy: 0.7334\n",
            "Epoch 31/100\n",
            "1407/1407 [==============================] - 8s 6ms/step - loss: 0.4845 - Accuracy: 0.8458 - val_loss: 1.0927 - val_Accuracy: 0.7090\n",
            "Epoch 32/100\n",
            "1407/1407 [==============================] - 7s 5ms/step - loss: 0.4962 - Accuracy: 0.8446 - val_loss: 1.0487 - val_Accuracy: 0.6964\n",
            "Epoch 33/100\n",
            "1407/1407 [==============================] - 7s 5ms/step - loss: 0.4886 - Accuracy: 0.8457 - val_loss: 1.2544 - val_Accuracy: 0.7258\n",
            "Epoch 34/100\n",
            "1407/1407 [==============================] - 7s 5ms/step - loss: 0.4975 - Accuracy: 0.8435 - val_loss: 1.2512 - val_Accuracy: 0.7088\n",
            "Epoch 35/100\n",
            "1407/1407 [==============================] - 7s 5ms/step - loss: 0.5035 - Accuracy: 0.8403 - val_loss: 1.2298 - val_Accuracy: 0.7212\n",
            "Epoch 36/100\n",
            "1407/1407 [==============================] - 7s 5ms/step - loss: 0.5045 - Accuracy: 0.8421 - val_loss: 1.0953 - val_Accuracy: 0.6882\n",
            "Epoch 37/100\n",
            "1407/1407 [==============================] - 7s 5ms/step - loss: 0.5027 - Accuracy: 0.8424 - val_loss: 1.3641 - val_Accuracy: 0.7312\n",
            "Epoch 38/100\n",
            "1407/1407 [==============================] - 7s 5ms/step - loss: 0.4965 - Accuracy: 0.8433 - val_loss: 1.0691 - val_Accuracy: 0.6884\n",
            "Epoch 39/100\n",
            "1407/1407 [==============================] - 7s 5ms/step - loss: 0.5024 - Accuracy: 0.8419 - val_loss: 1.1393 - val_Accuracy: 0.6872\n",
            "Epoch 40/100\n",
            "1407/1407 [==============================] - 7s 5ms/step - loss: 0.5029 - Accuracy: 0.8438 - val_loss: 1.0158 - val_Accuracy: 0.7244\n",
            "Epoch 41/100\n",
            "1407/1407 [==============================] - 7s 5ms/step - loss: 0.5132 - Accuracy: 0.8410 - val_loss: 1.0764 - val_Accuracy: 0.6952\n",
            "Epoch 42/100\n",
            "1407/1407 [==============================] - 8s 5ms/step - loss: 0.5122 - Accuracy: 0.8395 - val_loss: 1.6014 - val_Accuracy: 0.7130\n",
            "Epoch 43/100\n",
            "1407/1407 [==============================] - 7s 5ms/step - loss: 0.5077 - Accuracy: 0.8419 - val_loss: 1.2576 - val_Accuracy: 0.7198\n",
            "Epoch 44/100\n",
            "1407/1407 [==============================] - 10s 7ms/step - loss: 0.5080 - Accuracy: 0.8403 - val_loss: 1.0719 - val_Accuracy: 0.7188\n",
            "Epoch 45/100\n",
            "1407/1407 [==============================] - 13s 9ms/step - loss: 0.5055 - Accuracy: 0.8432 - val_loss: 1.1356 - val_Accuracy: 0.7304\n",
            "Epoch 46/100\n",
            "1407/1407 [==============================] - 12s 9ms/step - loss: 0.5119 - Accuracy: 0.8379 - val_loss: 1.0910 - val_Accuracy: 0.7168\n",
            "Epoch 47/100\n",
            "1407/1407 [==============================] - 13s 10ms/step - loss: 0.5020 - Accuracy: 0.8397 - val_loss: 0.9782 - val_Accuracy: 0.7080\n",
            "Epoch 48/100\n",
            "1407/1407 [==============================] - 11s 8ms/step - loss: 0.5217 - Accuracy: 0.8392 - val_loss: 0.9871 - val_Accuracy: 0.7162\n",
            "Epoch 49/100\n",
            "1407/1407 [==============================] - 12s 8ms/step - loss: 0.5190 - Accuracy: 0.8377 - val_loss: 1.2351 - val_Accuracy: 0.7126\n",
            "Epoch 50/100\n",
            "1407/1407 [==============================] - 10s 7ms/step - loss: 0.5087 - Accuracy: 0.8417 - val_loss: 1.2272 - val_Accuracy: 0.7192\n",
            "Epoch 51/100\n",
            "1407/1407 [==============================] - 7s 5ms/step - loss: 0.5192 - Accuracy: 0.8374 - val_loss: 1.2142 - val_Accuracy: 0.7050\n",
            "Epoch 52/100\n",
            "1407/1407 [==============================] - 7s 5ms/step - loss: 0.5132 - Accuracy: 0.8381 - val_loss: 1.0824 - val_Accuracy: 0.7226\n",
            "Epoch 53/100\n",
            "1407/1407 [==============================] - 7s 5ms/step - loss: 0.5183 - Accuracy: 0.8407 - val_loss: 1.6653 - val_Accuracy: 0.6586\n",
            "Epoch 54/100\n",
            "1407/1407 [==============================] - 7s 5ms/step - loss: 0.5177 - Accuracy: 0.8397 - val_loss: 0.9533 - val_Accuracy: 0.7360\n",
            "Epoch 55/100\n",
            "1407/1407 [==============================] - 7s 5ms/step - loss: 0.5236 - Accuracy: 0.8363 - val_loss: 1.2506 - val_Accuracy: 0.7284\n",
            "Epoch 56/100\n",
            "1407/1407 [==============================] - 7s 5ms/step - loss: 0.5233 - Accuracy: 0.8372 - val_loss: 1.1556 - val_Accuracy: 0.7158\n",
            "Epoch 57/100\n",
            "1407/1407 [==============================] - 7s 5ms/step - loss: 0.5200 - Accuracy: 0.8376 - val_loss: 1.2729 - val_Accuracy: 0.7388\n",
            "Epoch 58/100\n",
            "1407/1407 [==============================] - 7s 5ms/step - loss: 0.5260 - Accuracy: 0.8360 - val_loss: 1.2070 - val_Accuracy: 0.7156\n",
            "Epoch 59/100\n",
            "1407/1407 [==============================] - 7s 5ms/step - loss: 0.5326 - Accuracy: 0.8343 - val_loss: 1.1881 - val_Accuracy: 0.6942\n",
            "Epoch 60/100\n",
            "1407/1407 [==============================] - 7s 5ms/step - loss: 0.5190 - Accuracy: 0.8379 - val_loss: 1.1750 - val_Accuracy: 0.7218\n",
            "Epoch 61/100\n",
            "1407/1407 [==============================] - 7s 5ms/step - loss: 0.5367 - Accuracy: 0.8296 - val_loss: 1.3250 - val_Accuracy: 0.7096\n",
            "Epoch 62/100\n",
            "1407/1407 [==============================] - 7s 5ms/step - loss: 0.5194 - Accuracy: 0.8375 - val_loss: 1.0703 - val_Accuracy: 0.7116\n",
            "Epoch 63/100\n",
            "1407/1407 [==============================] - 7s 5ms/step - loss: 0.5177 - Accuracy: 0.8375 - val_loss: 1.0828 - val_Accuracy: 0.7270\n",
            "Epoch 64/100\n",
            "1407/1407 [==============================] - 9s 6ms/step - loss: 0.5282 - Accuracy: 0.8358 - val_loss: 1.0562 - val_Accuracy: 0.7168\n",
            "Epoch 65/100\n",
            "1407/1407 [==============================] - 7s 5ms/step - loss: 0.5275 - Accuracy: 0.8353 - val_loss: 1.1584 - val_Accuracy: 0.6750\n",
            "Epoch 66/100\n",
            "1407/1407 [==============================] - 7s 5ms/step - loss: 0.5373 - Accuracy: 0.8322 - val_loss: 1.1390 - val_Accuracy: 0.7268\n",
            "Epoch 67/100\n",
            "1407/1407 [==============================] - 7s 5ms/step - loss: 0.5207 - Accuracy: 0.8363 - val_loss: 1.5571 - val_Accuracy: 0.6730\n",
            "Epoch 68/100\n",
            "1407/1407 [==============================] - 8s 6ms/step - loss: 0.5279 - Accuracy: 0.8362 - val_loss: 1.5184 - val_Accuracy: 0.7030\n",
            "Epoch 69/100\n",
            "1407/1407 [==============================] - 7s 5ms/step - loss: 0.5359 - Accuracy: 0.8318 - val_loss: 1.6413 - val_Accuracy: 0.6806\n",
            "Epoch 70/100\n",
            "1407/1407 [==============================] - 8s 5ms/step - loss: 0.5246 - Accuracy: 0.8346 - val_loss: 1.0268 - val_Accuracy: 0.7202\n",
            "Epoch 71/100\n",
            "1407/1407 [==============================] - 7s 5ms/step - loss: 0.5279 - Accuracy: 0.8347 - val_loss: 1.0166 - val_Accuracy: 0.7036\n",
            "Epoch 72/100\n",
            "1407/1407 [==============================] - 7s 5ms/step - loss: 0.5291 - Accuracy: 0.8360 - val_loss: 1.0763 - val_Accuracy: 0.7148\n",
            "Epoch 73/100\n",
            "1407/1407 [==============================] - 8s 5ms/step - loss: 0.5382 - Accuracy: 0.8319 - val_loss: 1.0690 - val_Accuracy: 0.7002\n",
            "Epoch 74/100\n",
            "1407/1407 [==============================] - 7s 5ms/step - loss: 0.5344 - Accuracy: 0.8346 - val_loss: 1.6748 - val_Accuracy: 0.6818\n",
            "Epoch 75/100\n",
            "1407/1407 [==============================] - 7s 5ms/step - loss: 0.5340 - Accuracy: 0.8334 - val_loss: 1.3649 - val_Accuracy: 0.7090\n",
            "Epoch 76/100\n",
            "1407/1407 [==============================] - 7s 5ms/step - loss: 0.5343 - Accuracy: 0.8316 - val_loss: 1.2044 - val_Accuracy: 0.7386\n",
            "Epoch 77/100\n",
            "1407/1407 [==============================] - 7s 5ms/step - loss: 0.5314 - Accuracy: 0.8342 - val_loss: 1.4113 - val_Accuracy: 0.6806\n",
            "Epoch 78/100\n",
            "1407/1407 [==============================] - 8s 5ms/step - loss: 0.5383 - Accuracy: 0.8328 - val_loss: 1.0904 - val_Accuracy: 0.6920\n",
            "Epoch 79/100\n",
            "1407/1407 [==============================] - 7s 5ms/step - loss: 0.5321 - Accuracy: 0.8324 - val_loss: 1.3382 - val_Accuracy: 0.7032\n",
            "Epoch 80/100\n",
            "1407/1407 [==============================] - 7s 5ms/step - loss: 0.5306 - Accuracy: 0.8318 - val_loss: 1.1834 - val_Accuracy: 0.7218\n",
            "Epoch 81/100\n",
            "1407/1407 [==============================] - 7s 5ms/step - loss: 0.5342 - Accuracy: 0.8347 - val_loss: 1.0898 - val_Accuracy: 0.6850\n",
            "Epoch 82/100\n",
            "1407/1407 [==============================] - 7s 5ms/step - loss: 0.5252 - Accuracy: 0.8364 - val_loss: 1.6391 - val_Accuracy: 0.6924\n",
            "Epoch 83/100\n",
            "1407/1407 [==============================] - 7s 5ms/step - loss: 0.5347 - Accuracy: 0.8342 - val_loss: 1.1949 - val_Accuracy: 0.7280\n",
            "Epoch 84/100\n",
            "1407/1407 [==============================] - 7s 5ms/step - loss: 0.5358 - Accuracy: 0.8329 - val_loss: 1.3452 - val_Accuracy: 0.7254\n",
            "Epoch 85/100\n",
            "1407/1407 [==============================] - 7s 5ms/step - loss: 0.5322 - Accuracy: 0.8334 - val_loss: 1.2624 - val_Accuracy: 0.7022\n",
            "Epoch 86/100\n",
            "1407/1407 [==============================] - 8s 5ms/step - loss: 0.5346 - Accuracy: 0.8314 - val_loss: 1.2009 - val_Accuracy: 0.7140\n",
            "Epoch 87/100\n",
            "1407/1407 [==============================] - 7s 5ms/step - loss: 0.5347 - Accuracy: 0.8301 - val_loss: 1.2079 - val_Accuracy: 0.7272\n",
            "Epoch 88/100\n",
            "1407/1407 [==============================] - 7s 5ms/step - loss: 0.5343 - Accuracy: 0.8306 - val_loss: 1.2260 - val_Accuracy: 0.7358\n",
            "Epoch 89/100\n",
            "1407/1407 [==============================] - 7s 5ms/step - loss: 0.5248 - Accuracy: 0.8343 - val_loss: 1.1668 - val_Accuracy: 0.7154\n",
            "Epoch 90/100\n",
            "1407/1407 [==============================] - 7s 5ms/step - loss: 0.5420 - Accuracy: 0.8287 - val_loss: 1.2991 - val_Accuracy: 0.6958\n",
            "Epoch 91/100\n",
            "1407/1407 [==============================] - 7s 5ms/step - loss: 0.5342 - Accuracy: 0.8321 - val_loss: 1.1757 - val_Accuracy: 0.7250\n",
            "Epoch 92/100\n",
            "1407/1407 [==============================] - 7s 5ms/step - loss: 0.5287 - Accuracy: 0.8349 - val_loss: 1.1749 - val_Accuracy: 0.6912\n",
            "Epoch 93/100\n",
            "1407/1407 [==============================] - 8s 5ms/step - loss: 0.5447 - Accuracy: 0.8284 - val_loss: 1.4632 - val_Accuracy: 0.6780\n",
            "Epoch 94/100\n",
            "1407/1407 [==============================] - 7s 5ms/step - loss: 0.5318 - Accuracy: 0.8342 - val_loss: 1.2455 - val_Accuracy: 0.7288\n",
            "Epoch 95/100\n",
            "1407/1407 [==============================] - 7s 5ms/step - loss: 0.5374 - Accuracy: 0.8320 - val_loss: 1.5139 - val_Accuracy: 0.6904\n",
            "Epoch 96/100\n",
            "1407/1407 [==============================] - 7s 5ms/step - loss: 0.5385 - Accuracy: 0.8322 - val_loss: 1.1273 - val_Accuracy: 0.7242\n",
            "Epoch 97/100\n",
            "1407/1407 [==============================] - 7s 5ms/step - loss: 0.5484 - Accuracy: 0.8294 - val_loss: 1.2898 - val_Accuracy: 0.7016\n",
            "Epoch 98/100\n",
            "1407/1407 [==============================] - 7s 5ms/step - loss: 0.5513 - Accuracy: 0.8300 - val_loss: 1.1735 - val_Accuracy: 0.7242\n",
            "Epoch 99/100\n",
            "1407/1407 [==============================] - 7s 5ms/step - loss: 0.5373 - Accuracy: 0.8305 - val_loss: 1.1741 - val_Accuracy: 0.6912\n",
            "Epoch 100/100\n",
            "1407/1407 [==============================] - 7s 5ms/step - loss: 0.5397 - Accuracy: 0.8320 - val_loss: 1.2353 - val_Accuracy: 0.7278\n"
          ]
        }
      ]
    },
    {
      "cell_type": "code",
      "source": [
        "plt.plot(hist.history['accuracy'], label='Train')\n",
        "plt.plot(hist.history['val_accuracy'], label='Val')\n",
        "plt.legend()\n",
        "plt.show()\n"
      ],
      "metadata": {
        "colab": {
          "base_uri": "https://localhost:8080/"
        },
        "id": "03aQ7CfKoqor",
        "outputId": "5250fac0-e2c2-47a7-97b8-c3253b01ac24"
      },
      "execution_count": 10,
      "outputs": [
        {
          "output_type": "error",
          "ename": "KeyError",
          "evalue": "ignored",
          "traceback": [
            "\u001b[0;31m---------------------------------------------------------------------------\u001b[0m",
            "\u001b[0;31mKeyError\u001b[0m                                  Traceback (most recent call last)",
            "\u001b[0;32m<ipython-input-10-7176dbc57417>\u001b[0m in \u001b[0;36m<module>\u001b[0;34m\u001b[0m\n\u001b[0;32m----> 1\u001b[0;31m \u001b[0mplt\u001b[0m\u001b[0;34m.\u001b[0m\u001b[0mplot\u001b[0m\u001b[0;34m(\u001b[0m\u001b[0mhist\u001b[0m\u001b[0;34m.\u001b[0m\u001b[0mhistory\u001b[0m\u001b[0;34m[\u001b[0m\u001b[0;34m'accuracy'\u001b[0m\u001b[0;34m]\u001b[0m\u001b[0;34m,\u001b[0m \u001b[0mlabel\u001b[0m\u001b[0;34m=\u001b[0m\u001b[0;34m'Train'\u001b[0m\u001b[0;34m)\u001b[0m\u001b[0;34m\u001b[0m\u001b[0;34m\u001b[0m\u001b[0m\n\u001b[0m\u001b[1;32m      2\u001b[0m \u001b[0mplt\u001b[0m\u001b[0;34m.\u001b[0m\u001b[0mplot\u001b[0m\u001b[0;34m(\u001b[0m\u001b[0mhist\u001b[0m\u001b[0;34m.\u001b[0m\u001b[0mhistory\u001b[0m\u001b[0;34m[\u001b[0m\u001b[0;34m'val_accuracy'\u001b[0m\u001b[0;34m]\u001b[0m\u001b[0;34m,\u001b[0m \u001b[0mlabel\u001b[0m\u001b[0;34m=\u001b[0m\u001b[0;34m'Val'\u001b[0m\u001b[0;34m)\u001b[0m\u001b[0;34m\u001b[0m\u001b[0;34m\u001b[0m\u001b[0m\n\u001b[1;32m      3\u001b[0m \u001b[0mplt\u001b[0m\u001b[0;34m.\u001b[0m\u001b[0mlegend\u001b[0m\u001b[0;34m(\u001b[0m\u001b[0;34m)\u001b[0m\u001b[0;34m\u001b[0m\u001b[0;34m\u001b[0m\u001b[0m\n\u001b[1;32m      4\u001b[0m \u001b[0mplt\u001b[0m\u001b[0;34m.\u001b[0m\u001b[0mshow\u001b[0m\u001b[0;34m(\u001b[0m\u001b[0;34m)\u001b[0m\u001b[0;34m\u001b[0m\u001b[0;34m\u001b[0m\u001b[0m\n",
            "\u001b[0;31mKeyError\u001b[0m: 'accuracy'"
          ]
        }
      ]
    },
    {
      "cell_type": "code",
      "source": [],
      "metadata": {
        "id": "hy23fzpK39mj"
      },
      "execution_count": null,
      "outputs": []
    }
  ]
}